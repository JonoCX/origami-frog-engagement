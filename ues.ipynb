{
 "cells": [
  {
   "cell_type": "markdown",
   "metadata": {},
   "source": [
    "### Engagement Statistics"
   ]
  },
  {
   "cell_type": "code",
   "execution_count": 58,
   "metadata": {},
   "outputs": [],
   "source": [
    "import pandas as pd \n",
    "import matplotlib.pyplot as plt \n",
    "import seaborn as sns \n",
    "import numpy as np \n",
    "\n",
    "np.random.seed(42)\n",
    "sns.set_context('paper')"
   ]
  },
  {
   "cell_type": "code",
   "execution_count": 59,
   "metadata": {},
   "outputs": [
    {
     "data": {
      "text/html": [
       "<div>\n",
       "<style scoped>\n",
       "    .dataframe tbody tr th:only-of-type {\n",
       "        vertical-align: middle;\n",
       "    }\n",
       "\n",
       "    .dataframe tbody tr th {\n",
       "        vertical-align: top;\n",
       "    }\n",
       "\n",
       "    .dataframe thead th {\n",
       "        text-align: right;\n",
       "    }\n",
       "</style>\n",
       "<table border=\"1\" class=\"dataframe\">\n",
       "  <thead>\n",
       "    <tr style=\"text-align: right;\">\n",
       "      <th></th>\n",
       "      <th>FA-Score</th>\n",
       "      <th>AE-Score</th>\n",
       "      <th>PU-Score</th>\n",
       "      <th>RW-Score</th>\n",
       "      <th>UES-Score</th>\n",
       "    </tr>\n",
       "  </thead>\n",
       "  <tbody>\n",
       "    <tr>\n",
       "      <th>count</th>\n",
       "      <td>40.000000</td>\n",
       "      <td>40.000000</td>\n",
       "      <td>40.000000</td>\n",
       "      <td>40.000000</td>\n",
       "      <td>40.000000</td>\n",
       "    </tr>\n",
       "    <tr>\n",
       "      <th>mean</th>\n",
       "      <td>3.324750</td>\n",
       "      <td>3.635000</td>\n",
       "      <td>3.062500</td>\n",
       "      <td>3.197500</td>\n",
       "      <td>3.305000</td>\n",
       "    </tr>\n",
       "    <tr>\n",
       "      <th>std</th>\n",
       "      <td>0.866762</td>\n",
       "      <td>0.860396</td>\n",
       "      <td>1.053876</td>\n",
       "      <td>0.952591</td>\n",
       "      <td>0.817291</td>\n",
       "    </tr>\n",
       "    <tr>\n",
       "      <th>min</th>\n",
       "      <td>1.000000</td>\n",
       "      <td>1.200000</td>\n",
       "      <td>1.120000</td>\n",
       "      <td>1.000000</td>\n",
       "      <td>1.080000</td>\n",
       "    </tr>\n",
       "    <tr>\n",
       "      <th>25%</th>\n",
       "      <td>2.927500</td>\n",
       "      <td>3.200000</td>\n",
       "      <td>2.315000</td>\n",
       "      <td>2.575000</td>\n",
       "      <td>2.837500</td>\n",
       "    </tr>\n",
       "    <tr>\n",
       "      <th>50%</th>\n",
       "      <td>3.430000</td>\n",
       "      <td>3.600000</td>\n",
       "      <td>3.060000</td>\n",
       "      <td>3.300000</td>\n",
       "      <td>3.280000</td>\n",
       "    </tr>\n",
       "    <tr>\n",
       "      <th>75%</th>\n",
       "      <td>3.860000</td>\n",
       "      <td>4.250000</td>\n",
       "      <td>4.000000</td>\n",
       "      <td>3.950000</td>\n",
       "      <td>3.910000</td>\n",
       "    </tr>\n",
       "    <tr>\n",
       "      <th>max</th>\n",
       "      <td>4.710000</td>\n",
       "      <td>5.000000</td>\n",
       "      <td>5.000000</td>\n",
       "      <td>4.800000</td>\n",
       "      <td>4.820000</td>\n",
       "    </tr>\n",
       "  </tbody>\n",
       "</table>\n",
       "</div>"
      ],
      "text/plain": [
       "        FA-Score   AE-Score   PU-Score   RW-Score  UES-Score\n",
       "count  40.000000  40.000000  40.000000  40.000000  40.000000\n",
       "mean    3.324750   3.635000   3.062500   3.197500   3.305000\n",
       "std     0.866762   0.860396   1.053876   0.952591   0.817291\n",
       "min     1.000000   1.200000   1.120000   1.000000   1.080000\n",
       "25%     2.927500   3.200000   2.315000   2.575000   2.837500\n",
       "50%     3.430000   3.600000   3.060000   3.300000   3.280000\n",
       "75%     3.860000   4.250000   4.000000   3.950000   3.910000\n",
       "max     4.710000   5.000000   5.000000   4.800000   4.820000"
      ]
     },
     "execution_count": 59,
     "metadata": {},
     "output_type": "execute_result"
    }
   ],
   "source": [
    "data = pd.read_csv('data/ues_responses.csv')\n",
    "data[['FA-Score', 'AE-Score', 'PU-Score', 'RW-Score', 'UES-Score']].describe()"
   ]
  },
  {
   "cell_type": "code",
   "execution_count": 60,
   "metadata": {},
   "outputs": [
    {
     "data": {
      "text/plain": [
       "Index(['Unnamed: 0', 'pid', 'Age', 'Gender', 'Education', 'Employment', 'Tech',\n",
       "       'Origami', 'Consumption', 'source', 'bbc_id', 'FA2', 'AE3', 'FA4',\n",
       "       'AE4', 'RW1', 'RW5', 'RW8', 'RW2', 'RW3', 'RW7', 'PU6', 'FA1', 'PU2',\n",
       "       'RW9', 'FA7', 'PU7', 'PU4', 'FA6', 'AE5', 'PU1', 'AE1', 'PU8', 'RW6',\n",
       "       'AE2', 'FA3', 'RW10', 'RW4', 'FA5', 'PU5', 'PU3', 'complete_frog',\n",
       "       'FA-Score', 'AE-Score', 'PU-Score', 'RW-Score', 'UES-Score',\n",
       "       'engagement_level'],\n",
       "      dtype='object')"
      ]
     },
     "execution_count": 60,
     "metadata": {},
     "output_type": "execute_result"
    }
   ],
   "source": [
    "data.columns"
   ]
  },
  {
   "cell_type": "code",
   "execution_count": 61,
   "metadata": {},
   "outputs": [
    {
     "data": {
      "image/png": "[encoded data removed]",
      "text/plain": [
       "<Figure size 432x288 with 1 Axes>"
      ]
     },
     "metadata": {
      "needs_background": "light"
     },
     "output_type": "display_data"
    }
   ],
   "source": [
    "p = sns.histplot(data['UES-Score'], palette = sns.color_palette('colorblind'))\n",
    "p.set(ylabel = f\"Number of Users (N = {len(data.index)})\", xlabel = 'User Engagement Score (UES)')\n",
    "\n",
    "sns.despine()\n",
    "plt.tight_layout()\n",
    "plt.show()\n",
    "# plt.savefig('plots/ues-distribution.png')"
   ]
  },
  {
   "cell_type": "code",
   "execution_count": 62,
   "metadata": {},
   "outputs": [
    {
     "data": {
      "image/png": "[encoded data removed]",
      "text/plain": [
       "<Figure size 432x288 with 1 Axes>"
      ]
     },
     "metadata": {
      "needs_background": "light"
     },
     "output_type": "display_data"
    }
   ],
   "source": [
    "p = sns.boxplot(\n",
    "    data = data[['UES-Score', 'FA-Score', 'AE-Score', 'PU-Score', 'RW-Score']], \n",
    "    width = 0.4, linewidth = 1.1, notch = False, orient = 'h', showfliers = False, \n",
    "    palette = sns.color_palette('colorblind')\n",
    ")\n",
    "p.set(\n",
    "    xlabel = 'Score', \n",
    "    yticklabels = [\n",
    "        'Engagement', 'Focused Attention', 'Aesthetic Appeal', 'Perceived Usability', 'Reward'\n",
    "    ]\n",
    ")\n",
    "p.xaxis.grid(True, alpha = 0.5, linestyle = 'dashed')\n",
    "p.set_axisbelow(True)\n",
    "sns.despine(trim = True)\n",
    "plt.tight_layout()\n",
    "plt.show()\n",
    "# plt.savefig('plots/ues-distributions-boxplot.png')"
   ]
  },
  {
   "cell_type": "markdown",
   "metadata": {},
   "source": [
    "**Add group identifiers into the data**"
   ]
  },
  {
   "cell_type": "code",
   "execution_count": 63,
   "metadata": {},
   "outputs": [],
   "source": [
    "data['previous_origami_experience'] = np.where(\n",
    "    data['Origami'].isin(['Novice', 'Intermediate', 'Advanced', 'Expert']), \n",
    "    'With Experience',\n",
    "    'No Experience'\n",
    ")\n",
    "data['previous_tech_experience'] = np.where(\n",
    "    data['Tech'].isin(['None', 'Novice', 'Intermediate']),\n",
    "    'Little to None',\n",
    "    'Advanced to Expert'\n",
    ")"
   ]
  },
  {
   "cell_type": "code",
   "execution_count": 64,
   "metadata": {},
   "outputs": [
    {
     "data": {
      "image/png": "[encoded data removed]",
      "text/plain": [
       "<Figure size 432x288 with 1 Axes>"
      ]
     },
     "metadata": {
      "needs_background": "light"
     },
     "output_type": "display_data"
    }
   ],
   "source": [
    "p = sns.histplot(\n",
    "    x = 'UES-Score', hue = 'previous_origami_experience', data = data,\n",
    "    multiple = 'stack'\n",
    ")\n",
    "p.set(xlabel = 'User Engagement Score', ylabel = 'Number of Users')\n",
    "\n",
    "sns.despine()\n",
    "plt.tight_layout()\n",
    "plt.show()"
   ]
  },
  {
   "cell_type": "code",
   "execution_count": 65,
   "metadata": {},
   "outputs": [
    {
     "data": {
      "image/png": "[encoded data removed]",
      "text/plain": [
       "<Figure size 432x288 with 1 Axes>"
      ]
     },
     "metadata": {
      "needs_background": "light"
     },
     "output_type": "display_data"
    }
   ],
   "source": [
    "p = sns.histplot(\n",
    "    x = 'UES-Score', hue = 'previous_tech_experience', data = data,\n",
    "    multiple = 'stack'\n",
    ")\n",
    "p.set(xlabel = 'User Engagement Score', ylabel = 'Number of Users')\n",
    "\n",
    "sns.despine()\n",
    "plt.tight_layout()\n",
    "plt.show()"
   ]
  },
  {
   "cell_type": "code",
   "execution_count": 66,
   "metadata": {},
   "outputs": [
    {
     "data": {
      "image/png": "[encoded data removed]",
      "text/plain": [
       "<Figure size 864x360 with 2 Axes>"
      ]
     },
     "metadata": {
      "needs_background": "light"
     },
     "output_type": "display_data"
    }
   ],
   "source": [
    "fig, axes = plt.subplots(ncols = 2, nrows = 1, figsize = (12, 5))\n",
    "legend_titles = {\n",
    "    'previous_origami_experience': 'Origami Experience', \n",
    "    'previous_tech_experience': 'Technology Experience'\n",
    "}\n",
    "\n",
    "for indx, col in enumerate(['previous_origami_experience', 'previous_tech_experience']):\n",
    "    p = sns.boxplot(\n",
    "        data = pd.melt(\n",
    "            data, id_vars = col, \n",
    "            value_vars = ['UES-Score', 'FA-Score', 'AE-Score', 'PU-Score', 'RW-Score'], \n",
    "            var_name = 'metric', value_name = 'metric_score'\n",
    "        ),\n",
    "        x = 'metric_score', y = 'metric', hue = col,\n",
    "        width = 0.5, linewidth = 1.1, notch = False, orient = 'h', showfliers = False,\n",
    "        palette = sns.color_palette('colorblind'),\n",
    "        ax = axes[indx]\n",
    "    )\n",
    "    p.set(\n",
    "        xlabel = 'Score',\n",
    "        ylabel = '',\n",
    "        yticklabels = [\n",
    "            'Engagement', 'Focused Attention', 'Aesthetic Appeal', 'Perceived Usability', 'Reward'\n",
    "        ]\n",
    "    )\n",
    "    p.xaxis.grid(True, alpha = 0.5, linestyle = 'dashed')\n",
    "    p.set_axisbelow(True)\n",
    "    p.legend(title = legend_titles[col], loc = 'upper center', bbox_to_anchor = (0.5, 1.15), ncol = 2)\n",
    "\n",
    "sns.despine(trim = True)\n",
    "plt.tight_layout()\n",
    "plt.show()\n",
    "# plt.savefig('plots/ues-distributions-demographics.png')"
   ]
  },
  {
   "cell_type": "code",
   "execution_count": 67,
   "metadata": {},
   "outputs": [
    {
     "data": {
      "image/png": "[encoded data removed]",
      "text/plain": [
       "<Figure size 864x360 with 2 Axes>"
      ]
     },
     "metadata": {
      "needs_background": "light"
     },
     "output_type": "display_data"
    }
   ],
   "source": [
    "fig, axes = plt.subplots(ncols = 2, figsize = (12, 5))\n",
    "\n",
    "p = sns.histplot(\n",
    "    x = 'PU-Score', hue = 'previous_tech_experience', data = data,\n",
    "    multiple = 'stack', ax = axes[0]\n",
    ")\n",
    "p.set(xlabel = 'Perceived Usability', ylabel = 'Number of Users')\n",
    "q = sns.histplot(\n",
    "    x = 'PU-Score', hue = 'previous_origami_experience', data = data,\n",
    "    multiple = 'stack', ax = axes[1]\n",
    ")\n",
    "q.set(xlabel = 'Perceived Usability', ylabel = '')\n",
    "\n",
    "sns.despine()\n",
    "plt.tight_layout()\n",
    "plt.show()"
   ]
  },
  {
   "cell_type": "code",
   "execution_count": 68,
   "metadata": {},
   "outputs": [
    {
     "name": "stdout",
     "output_type": "stream",
     "text": [
      "Origami Experience\n",
      "With Experience\n",
      "                  W      pval  normal\n",
      "UES-Score  0.936505  0.122889    True\n",
      "No Experience\n",
      "                  W      pval  normal\n",
      "UES-Score  0.937796  0.355459    True\n",
      "\n",
      "Technical Experience\n",
      "Advanced to Expert\n",
      "                  W      pval  normal\n",
      "UES-Score  0.956855  0.355404    True\n",
      "Little to None\n",
      "                  W      pval  normal\n",
      "UES-Score  0.903472  0.107551    True\n"
     ]
    }
   ],
   "source": [
    "import pingouin as pg \n",
    "\n",
    "print('Origami Experience')\n",
    "for val in ['With Experience', 'No Experience']:\n",
    "    print(val)\n",
    "    print(pg.normality(data[data['previous_origami_experience'] == val]['UES-Score']))\n",
    "\n",
    "print('\\nTechnical Experience')\n",
    "for val in ['Advanced to Expert', 'Little to None']:\n",
    "    print(val)\n",
    "    print(pg.normality(data[data['previous_tech_experience'] == val]['UES-Score']))"
   ]
  },
  {
   "cell_type": "code",
   "execution_count": 69,
   "metadata": {},
   "outputs": [
    {
     "name": "stdout",
     "output_type": "stream",
     "text": [
      "Origami Experience\n",
      "               W     pval  equal_var\n",
      "levene  0.003104  0.95586       True\n",
      "               W      pval  equal_var\n",
      "levene  0.314113  0.578457       True\n"
     ]
    }
   ],
   "source": [
    "# Test for variance equality, to determine the type of test performed.\n",
    "print('Origami Experience')\n",
    "print(pg.homoscedasticity(\n",
    "    data = data, dv = 'UES-Score', group = 'previous_origami_experience', alpha = 0.05\n",
    "))\n",
    "print(pg.homoscedasticity(\n",
    "    data = data, dv = 'UES-Score', group = 'previous_tech_experience', alpha = 0.05\n",
    "))"
   ]
  },
  {
   "cell_type": "code",
   "execution_count": 70,
   "metadata": {},
   "outputs": [
    {
     "data": {
      "text/html": [
       "<div>\n",
       "<style scoped>\n",
       "    .dataframe tbody tr th:only-of-type {\n",
       "        vertical-align: middle;\n",
       "    }\n",
       "\n",
       "    .dataframe tbody tr th {\n",
       "        vertical-align: top;\n",
       "    }\n",
       "\n",
       "    .dataframe thead th {\n",
       "        text-align: right;\n",
       "    }\n",
       "</style>\n",
       "<table border=\"1\" class=\"dataframe\">\n",
       "  <thead>\n",
       "    <tr style=\"text-align: right;\">\n",
       "      <th></th>\n",
       "      <th>Source</th>\n",
       "      <th>ddof1</th>\n",
       "      <th>ddof2</th>\n",
       "      <th>F</th>\n",
       "      <th>p-unc</th>\n",
       "      <th>np2</th>\n",
       "    </tr>\n",
       "  </thead>\n",
       "  <tbody>\n",
       "    <tr>\n",
       "      <th>0</th>\n",
       "      <td>previous_origami_experience</td>\n",
       "      <td>1</td>\n",
       "      <td>38</td>\n",
       "      <td>3.295944</td>\n",
       "      <td>0.077349</td>\n",
       "      <td>0.079813</td>\n",
       "    </tr>\n",
       "  </tbody>\n",
       "</table>\n",
       "</div>"
      ],
      "text/plain": [
       "                        Source  ddof1  ddof2         F     p-unc       np2\n",
       "0  previous_origami_experience      1     38  3.295944  0.077349  0.079813"
      ]
     },
     "execution_count": 70,
     "metadata": {},
     "output_type": "execute_result"
    }
   ],
   "source": [
    "pg.anova(\n",
    "    dv = 'UES-Score', between = 'previous_origami_experience', data = data\n",
    ")"
   ]
  },
  {
   "cell_type": "code",
   "execution_count": 71,
   "metadata": {},
   "outputs": [
    {
     "data": {
      "text/html": [
       "<div>\n",
       "<style scoped>\n",
       "    .dataframe tbody tr th:only-of-type {\n",
       "        vertical-align: middle;\n",
       "    }\n",
       "\n",
       "    .dataframe tbody tr th {\n",
       "        vertical-align: top;\n",
       "    }\n",
       "\n",
       "    .dataframe thead th {\n",
       "        text-align: right;\n",
       "    }\n",
       "</style>\n",
       "<table border=\"1\" class=\"dataframe\">\n",
       "  <thead>\n",
       "    <tr style=\"text-align: right;\">\n",
       "      <th></th>\n",
       "      <th>Source</th>\n",
       "      <th>ddof1</th>\n",
       "      <th>ddof2</th>\n",
       "      <th>F</th>\n",
       "      <th>p-unc</th>\n",
       "      <th>np2</th>\n",
       "    </tr>\n",
       "  </thead>\n",
       "  <tbody>\n",
       "    <tr>\n",
       "      <th>0</th>\n",
       "      <td>previous_tech_experience</td>\n",
       "      <td>1</td>\n",
       "      <td>38</td>\n",
       "      <td>2.237249</td>\n",
       "      <td>0.14298</td>\n",
       "      <td>0.055601</td>\n",
       "    </tr>\n",
       "  </tbody>\n",
       "</table>\n",
       "</div>"
      ],
      "text/plain": [
       "                     Source  ddof1  ddof2         F    p-unc       np2\n",
       "0  previous_tech_experience      1     38  2.237249  0.14298  0.055601"
      ]
     },
     "execution_count": 71,
     "metadata": {},
     "output_type": "execute_result"
    }
   ],
   "source": [
    "pg.anova(\n",
    "    dv = 'UES-Score', between = 'previous_tech_experience', data = data\n",
    ")"
   ]
  },
  {
   "cell_type": "code",
   "execution_count": 72,
   "metadata": {},
   "outputs": [
    {
     "name": "stdout",
     "output_type": "stream",
     "text": [
      "Origami Experience\n",
      "With Experience\n",
      "                 W     pval  normal\n",
      "PU-Score  0.968575  0.60919    True\n",
      "No Experience\n",
      "                 W      pval  normal\n",
      "PU-Score  0.925966  0.237317    True\n",
      "\n",
      "Technical Experience\n",
      "Advanced to Expert\n",
      "                 W      pval  normal\n",
      "PU-Score  0.965366  0.531262    True\n",
      "Little to None\n",
      "                W     pval  normal\n",
      "PU-Score  0.93874  0.36679    True\n"
     ]
    }
   ],
   "source": [
    "print('Origami Experience')\n",
    "for val in ['With Experience', 'No Experience']:\n",
    "    print(val)\n",
    "    print(pg.normality(data[data['previous_origami_experience'] == val]['PU-Score']))\n",
    "\n",
    "print('\\nTechnical Experience')\n",
    "for val in ['Advanced to Expert', 'Little to None']:\n",
    "    print(val)\n",
    "    print(pg.normality(data[data['previous_tech_experience'] == val]['PU-Score']))"
   ]
  },
  {
   "cell_type": "code",
   "execution_count": 73,
   "metadata": {},
   "outputs": [
    {
     "name": "stdout",
     "output_type": "stream",
     "text": [
      "Origami Experience\n",
      "               W     pval  equal_var\n",
      "levene  0.003104  0.95586       True\n",
      "               W      pval  equal_var\n",
      "levene  0.314113  0.578457       True\n"
     ]
    }
   ],
   "source": [
    "# Test for variance equality, to determine the type of test performed.\n",
    "print('Origami Experience')\n",
    "print(pg.homoscedasticity(\n",
    "    data = data, dv = 'UES-Score', group = 'previous_origami_experience', alpha = 0.05\n",
    "))\n",
    "print(pg.homoscedasticity(\n",
    "    data = data, dv = 'UES-Score', group = 'previous_tech_experience', alpha = 0.05\n",
    "))"
   ]
  },
  {
   "cell_type": "code",
   "execution_count": 74,
   "metadata": {},
   "outputs": [
    {
     "name": "stdout",
     "output_type": "stream",
     "text": [
      "PU\n",
      "               W      pval  equal_var\n",
      "levene  0.091393  0.764063       True\n",
      "               W      pval  equal_var\n",
      "levene  0.006269  0.937305       True\n"
     ]
    }
   ],
   "source": [
    "print('PU')\n",
    "print(pg.homoscedasticity(\n",
    "    data = data, dv = 'PU-Score', group = 'previous_origami_experience', alpha = 0.05\n",
    "))\n",
    "print(pg.homoscedasticity(\n",
    "    data = data, dv = 'PU-Score', group = 'previous_tech_experience', alpha = 0.05\n",
    "))"
   ]
  },
  {
   "cell_type": "code",
   "execution_count": 75,
   "metadata": {},
   "outputs": [
    {
     "data": {
      "text/html": [
       "<div>\n",
       "<style scoped>\n",
       "    .dataframe tbody tr th:only-of-type {\n",
       "        vertical-align: middle;\n",
       "    }\n",
       "\n",
       "    .dataframe tbody tr th {\n",
       "        vertical-align: top;\n",
       "    }\n",
       "\n",
       "    .dataframe thead th {\n",
       "        text-align: right;\n",
       "    }\n",
       "</style>\n",
       "<table border=\"1\" class=\"dataframe\">\n",
       "  <thead>\n",
       "    <tr style=\"text-align: right;\">\n",
       "      <th></th>\n",
       "      <th>Source</th>\n",
       "      <th>ddof1</th>\n",
       "      <th>ddof2</th>\n",
       "      <th>F</th>\n",
       "      <th>p-unc</th>\n",
       "      <th>np2</th>\n",
       "    </tr>\n",
       "  </thead>\n",
       "  <tbody>\n",
       "    <tr>\n",
       "      <th>0</th>\n",
       "      <td>previous_tech_experience</td>\n",
       "      <td>1</td>\n",
       "      <td>38</td>\n",
       "      <td>6.472058</td>\n",
       "      <td>0.015146</td>\n",
       "      <td>0.145531</td>\n",
       "    </tr>\n",
       "  </tbody>\n",
       "</table>\n",
       "</div>"
      ],
      "text/plain": [
       "                     Source  ddof1  ddof2         F     p-unc       np2\n",
       "0  previous_tech_experience      1     38  6.472058  0.015146  0.145531"
      ]
     },
     "execution_count": 75,
     "metadata": {},
     "output_type": "execute_result"
    }
   ],
   "source": [
    "pg.anova(dv = 'PU-Score', between = 'previous_tech_experience', data = data)"
   ]
  },
  {
   "cell_type": "code",
   "execution_count": 76,
   "metadata": {},
   "outputs": [
    {
     "data": {
      "text/html": [
       "<div>\n",
       "<style scoped>\n",
       "    .dataframe tbody tr th:only-of-type {\n",
       "        vertical-align: middle;\n",
       "    }\n",
       "\n",
       "    .dataframe tbody tr th {\n",
       "        vertical-align: top;\n",
       "    }\n",
       "\n",
       "    .dataframe thead th {\n",
       "        text-align: right;\n",
       "    }\n",
       "</style>\n",
       "<table border=\"1\" class=\"dataframe\">\n",
       "  <thead>\n",
       "    <tr style=\"text-align: right;\">\n",
       "      <th></th>\n",
       "      <th>Source</th>\n",
       "      <th>ddof1</th>\n",
       "      <th>ddof2</th>\n",
       "      <th>F</th>\n",
       "      <th>p-unc</th>\n",
       "      <th>np2</th>\n",
       "    </tr>\n",
       "  </thead>\n",
       "  <tbody>\n",
       "    <tr>\n",
       "      <th>0</th>\n",
       "      <td>previous_origami_experience</td>\n",
       "      <td>1</td>\n",
       "      <td>38</td>\n",
       "      <td>10.333031</td>\n",
       "      <td>0.002666</td>\n",
       "      <td>0.213788</td>\n",
       "    </tr>\n",
       "  </tbody>\n",
       "</table>\n",
       "</div>"
      ],
      "text/plain": [
       "                        Source  ddof1  ddof2          F     p-unc       np2\n",
       "0  previous_origami_experience      1     38  10.333031  0.002666  0.213788"
      ]
     },
     "execution_count": 76,
     "metadata": {},
     "output_type": "execute_result"
    }
   ],
   "source": [
    "pg.anova(dv = 'PU-Score', between = 'previous_origami_experience', data = data)"
   ]
  },
  {
   "cell_type": "markdown",
   "metadata": {},
   "source": [
    "**Testing for significant differences between the UES factors (tech experience)**"
   ]
  },
  {
   "cell_type": "code",
   "execution_count": 77,
   "metadata": {},
   "outputs": [
    {
     "name": "stdout",
     "output_type": "stream",
     "text": [
      "UES-Score\n",
      "(                     Source  ddof1  ddof2         F    p-unc       np2\n",
      "0  previous_tech_experience      1     38  2.237249  0.14298  0.055601, {'normal': True, 'equal_var': True, 'sig_level': 'not significant'})\n",
      "\n",
      "Focused Attention\n",
      "(                     Source  ddof1  ddof2         F     p-unc       np2\n",
      "0  previous_tech_experience      1     38  0.074118  0.786906  0.001947, {'normal': True, 'equal_var': True, 'sig_level': 'not significant'})\n",
      "\n",
      "Aesthetic Appeal\n",
      "(     U-val       tail     p-val    RBC   CLES\n",
      "MWU  223.5  two-sided  0.319578 -0.192  0.596, {'normal': False, 'equal_var': True, 'sig_level': 'not significant'})\n",
      "\n",
      "Perceived Usability\n",
      "(                     Source  ddof1  ddof2         F     p-unc       np2\n",
      "0  previous_tech_experience      1     38  6.472058  0.015146  0.145531, {'normal': True, 'equal_var': True, 'sig_level': 'significant at < 0.05'})\n",
      "\n",
      "Reward\n",
      "(                     Source  ddof1  ddof2         F     p-unc       np2\n",
      "0  previous_tech_experience      1     38  1.693657  0.200955  0.042668, {'normal': True, 'equal_var': True, 'sig_level': 'not significant'})\n"
     ]
    }
   ],
   "source": [
    "from lib.helpers import ues_difference_check\n",
    "\n",
    "print('UES-Score')\n",
    "print(ues_difference_check(data = data, dv = 'UES-Score', group = 'previous_tech_experience'))\n",
    "\n",
    "print('\\nFocused Attention')\n",
    "print(ues_difference_check(data = data, dv = 'FA-Score', group = 'previous_tech_experience'))\n",
    "\n",
    "print('\\nAesthetic Appeal')\n",
    "print(ues_difference_check(data = data, dv = 'AE-Score', group = 'previous_tech_experience'))\n",
    "\n",
    "print('\\nPerceived Usability')\n",
    "print(ues_difference_check(data = data, dv = 'PU-Score', group = 'previous_tech_experience'))\n",
    "\n",
    "print('\\nReward')\n",
    "print(ues_difference_check(data = data, dv = 'RW-Score', group = 'previous_tech_experience'))\n"
   ]
  },
  {
   "cell_type": "code",
   "execution_count": 78,
   "metadata": {},
   "outputs": [
    {
     "data": {
      "image/png": "[encoded data removed]",
      "text/plain": [
       "<Figure size 432x288 with 1 Axes>"
      ]
     },
     "metadata": {
      "needs_background": "light"
     },
     "output_type": "display_data"
    }
   ],
   "source": [
    "p = sns.pointplot(\n",
    "    y = 'previous_tech_experience', \n",
    "    x = 'PU-Score', \n",
    "    data = data, \n",
    "    join = False, \n",
    "    capsize = 0.05, \n",
    "    color = 'black', \n",
    "    orient = 'h'\n",
    ")\n",
    "p.set(xlabel = 'Perceived Usability', ylabel = 'Technology Experience')\n",
    "p.xaxis.grid(True, alpha = 0.5, linestyle = 'dashed')\n",
    "sns.despine(trim = True)\n",
    "plt.tight_layout()\n",
    "plt.show()\n",
    "# plt.savefig('plots/tech-experience-pu-pointplot.png')"
   ]
  },
  {
   "cell_type": "markdown",
   "metadata": {},
   "source": [
    "**Testing for significance differences between the UES factors for the origami experience**"
   ]
  },
  {
   "cell_type": "code",
   "execution_count": 79,
   "metadata": {},
   "outputs": [
    {
     "name": "stdout",
     "output_type": "stream",
     "text": [
      "UES-Score\n",
      "(                        Source  ddof1  ddof2         F     p-unc       np2\n",
      "0  previous_origami_experience      1     38  3.295944  0.077349  0.079813, {'normal': True, 'equal_var': True, 'sig_level': 'not significant'})\n",
      "\n",
      "Focused Attention\n",
      "(                        Source  ddof1  ddof2         F     p-unc       np2\n",
      "0  previous_origami_experience      1     38  0.293613  0.591078  0.007667, {'normal': True, 'equal_var': True, 'sig_level': 'not significant'})\n",
      "\n",
      "Aesthetic Appeal\n",
      "(                        Source  ddof1  ddof2         F     p-unc       np2\n",
      "0  previous_origami_experience      1     38  0.073939  0.787158  0.001942, {'normal': True, 'equal_var': True, 'sig_level': 'not significant'})\n",
      "\n",
      "Perceived Usability\n",
      "(                        Source  ddof1  ddof2          F     p-unc       np2\n",
      "0  previous_origami_experience      1     38  10.333031  0.002666  0.213788, {'normal': True, 'equal_var': True, 'sig_level': 'significant at < 0.05'})\n",
      "\n",
      "Reward\n",
      "(                        Source  ddof1  ddof2         F     p-unc       np2\n",
      "0  previous_origami_experience      1     38  4.911815  0.032736  0.114463, {'normal': True, 'equal_var': True, 'sig_level': 'significant at < 0.05'})\n"
     ]
    }
   ],
   "source": [
    "from lib.helpers import ues_difference_check\n",
    "\n",
    "print('UES-Score')\n",
    "print(ues_difference_check(data = data, dv = 'UES-Score', group = 'previous_origami_experience'))\n",
    "\n",
    "print('\\nFocused Attention')\n",
    "print(ues_difference_check(data = data, dv = 'FA-Score', group = 'previous_origami_experience'))\n",
    "\n",
    "print('\\nAesthetic Appeal')\n",
    "print(ues_difference_check(data = data, dv = 'AE-Score', group = 'previous_origami_experience'))\n",
    "\n",
    "print('\\nPerceived Usability')\n",
    "print(ues_difference_check(data = data, dv = 'PU-Score', group = 'previous_origami_experience'))\n",
    "\n",
    "print('\\nReward')\n",
    "print(ues_difference_check(data = data, dv = 'RW-Score', group = 'previous_origami_experience'))\n"
   ]
  },
  {
   "cell_type": "code",
   "execution_count": 80,
   "metadata": {},
   "outputs": [
    {
     "name": "stdout",
     "output_type": "stream",
     "text": [
      "               W      pval  equal_var\n",
      "levene  0.106042  0.746482       True\n"
     ]
    }
   ],
   "source": [
    "print(pg.homoscedasticity(\n",
    "    data = data, dv = 'RW-Score', group = 'previous_origami_experience', alpha = 0.05\n",
    "))"
   ]
  },
  {
   "cell_type": "code",
   "execution_count": 81,
   "metadata": {},
   "outputs": [
    {
     "data": {
      "image/png": "[encoded data removed]",
      "text/plain": [
       "<Figure size 432x288 with 1 Axes>"
      ]
     },
     "metadata": {
      "needs_background": "light"
     },
     "output_type": "display_data"
    }
   ],
   "source": [
    "p = sns.pointplot(\n",
    "    y = 'previous_origami_experience', \n",
    "    x = 'PU-Score', \n",
    "    data = data, \n",
    "    join = False, \n",
    "    capsize = 0.05, \n",
    "    color = 'black', \n",
    "    orient = 'h'\n",
    ")\n",
    "p.set(xlabel = 'Perceived Usability', ylabel = 'Origami Making Experience')\n",
    "p.xaxis.grid(True, alpha = 0.5, linestyle = 'dashed')\n",
    "sns.despine(trim = True)\n",
    "plt.tight_layout()\n",
    "plt.show()\n",
    "# plt.savefig('plots/origami-experience-pu-pointplot')"
   ]
  },
  {
   "cell_type": "code",
   "execution_count": 82,
   "metadata": {},
   "outputs": [
    {
     "data": {
      "image/png": "[encoded data removed]",
      "text/plain": [
       "<Figure size 432x288 with 1 Axes>"
      ]
     },
     "metadata": {
      "needs_background": "light"
     },
     "output_type": "display_data"
    }
   ],
   "source": [
    "p = sns.pointplot(\n",
    "    y = 'previous_origami_experience', \n",
    "    x = 'RW-Score', \n",
    "    data = data, \n",
    "    join = False, \n",
    "    capsize = 0.05, \n",
    "    color = 'black', \n",
    "    orient = 'h'\n",
    ")\n",
    "p.set(xlabel = 'Reward', ylabel = 'Origami Making Experience')\n",
    "p.xaxis.grid(True, alpha = 0.5, linestyle = 'dashed')\n",
    "sns.despine(trim = True)\n",
    "plt.tight_layout()\n",
    "plt.show()\n",
    "# plt.savefig('plots/origami-making-rw-pointplot.png')"
   ]
  },
  {
   "cell_type": "code",
   "execution_count": 85,
   "metadata": {},
   "outputs": [
    {
     "data": {
      "image/png": "[encoded data removed]",
      "text/plain": [
       "<Figure size 864x720 with 3 Axes>"
      ]
     },
     "metadata": {
      "needs_background": "light"
     },
     "output_type": "display_data"
    }
   ],
   "source": [
    "fig, axes = plt.subplots(nrows = 2, ncols = 2, figsize = (12, 10))\n",
    "fig.delaxes(axes[1, 1])\n",
    "\n",
    "a = sns.pointplot(\n",
    "    y = 'previous_origami_experience', x = 'PU-Score', data = data, join = False, capsize = 0.05, \n",
    "    color = 'black', orient = 'h', ax = axes[0, 0]\n",
    ")\n",
    "a.set(xlabel = 'Perceived Usability', ylabel = 'Origami Making Experience')\n",
    "a.xaxis.grid(True, alpha = 0.5, linestyle = 'dashed')\n",
    "\n",
    "b = sns.pointplot(\n",
    "    y = 'previous_origami_experience', x = 'RW-Score', data = data, join = False, capsize = 0.05, \n",
    "    color = 'black', orient = 'h', ax = axes[0, 1]\n",
    ")\n",
    "b.set(xlabel = 'Reward', ylabel = 'Origami Making Experience')\n",
    "b.xaxis.grid(True, alpha = 0.5, linestyle = 'dashed')\n",
    "\n",
    "b = sns.pointplot(\n",
    "    y = 'previous_tech_experience', x = 'PU-Score', data = data, join = False, capsize = 0.05, \n",
    "    color = 'black', orient = 'h', ax = axes[1, 0]\n",
    ")\n",
    "b.set(xlabel = 'Perceived Usability', ylabel = 'Technology Experience')\n",
    "b.xaxis.grid(True, alpha = 0.5, linestyle = 'dashed')\n",
    "\n",
    "sns.despine(trim = True)\n",
    "plt.tight_layout()\n",
    "plt.show()\n",
    "# plt.savefig('plots/demographic-effects-pointplot.png')"
   ]
  },
  {
   "cell_type": "code",
   "execution_count": 63,
   "metadata": {},
   "outputs": [
    {
     "data": {
      "text/html": [
       "<div>\n",
       "<style scoped>\n",
       "    .dataframe tbody tr th:only-of-type {\n",
       "        vertical-align: middle;\n",
       "    }\n",
       "\n",
       "    .dataframe tbody tr th {\n",
       "        vertical-align: top;\n",
       "    }\n",
       "\n",
       "    .dataframe thead th {\n",
       "        text-align: right;\n",
       "    }\n",
       "</style>\n",
       "<table border=\"1\" class=\"dataframe\">\n",
       "  <thead>\n",
       "    <tr style=\"text-align: right;\">\n",
       "      <th></th>\n",
       "      <th>X</th>\n",
       "      <th>Y</th>\n",
       "      <th>method</th>\n",
       "      <th>tail</th>\n",
       "      <th>n</th>\n",
       "      <th>r</th>\n",
       "      <th>CI95%</th>\n",
       "      <th>p-unc</th>\n",
       "      <th>p-corr</th>\n",
       "      <th>p-adjust</th>\n",
       "      <th>power</th>\n",
       "      <th>significance_level</th>\n",
       "    </tr>\n",
       "  </thead>\n",
       "  <tbody>\n",
       "    <tr>\n",
       "      <th>0</th>\n",
       "      <td>FA-Score</td>\n",
       "      <td>AE-Score</td>\n",
       "      <td>spearman</td>\n",
       "      <td>two-sided</td>\n",
       "      <td>40</td>\n",
       "      <td>0.582248</td>\n",
       "      <td>[0.33, 0.76]</td>\n",
       "      <td>8.102142e-05</td>\n",
       "      <td>4.861285e-04</td>\n",
       "      <td>bonf</td>\n",
       "      <td>0.983511</td>\n",
       "      <td>significant at &lt; 0.001</td>\n",
       "    </tr>\n",
       "    <tr>\n",
       "      <th>1</th>\n",
       "      <td>FA-Score</td>\n",
       "      <td>PU-Score</td>\n",
       "      <td>spearman</td>\n",
       "      <td>two-sided</td>\n",
       "      <td>40</td>\n",
       "      <td>0.450899</td>\n",
       "      <td>[0.16, 0.67]</td>\n",
       "      <td>3.500534e-03</td>\n",
       "      <td>2.100320e-02</td>\n",
       "      <td>bonf</td>\n",
       "      <td>0.847797</td>\n",
       "      <td>significant at &lt; 0.05</td>\n",
       "    </tr>\n",
       "    <tr>\n",
       "      <th>2</th>\n",
       "      <td>FA-Score</td>\n",
       "      <td>RW-Score</td>\n",
       "      <td>spearman</td>\n",
       "      <td>two-sided</td>\n",
       "      <td>40</td>\n",
       "      <td>0.514495</td>\n",
       "      <td>[0.24, 0.71]</td>\n",
       "      <td>6.827668e-04</td>\n",
       "      <td>4.096601e-03</td>\n",
       "      <td>bonf</td>\n",
       "      <td>0.937832</td>\n",
       "      <td>significant at &lt; 0.05</td>\n",
       "    </tr>\n",
       "    <tr>\n",
       "      <th>3</th>\n",
       "      <td>AE-Score</td>\n",
       "      <td>PU-Score</td>\n",
       "      <td>spearman</td>\n",
       "      <td>two-sided</td>\n",
       "      <td>40</td>\n",
       "      <td>0.680273</td>\n",
       "      <td>[0.47, 0.82]</td>\n",
       "      <td>1.373055e-06</td>\n",
       "      <td>8.238329e-06</td>\n",
       "      <td>bonf</td>\n",
       "      <td>0.999144</td>\n",
       "      <td>significant at &lt; 0.001</td>\n",
       "    </tr>\n",
       "    <tr>\n",
       "      <th>4</th>\n",
       "      <td>AE-Score</td>\n",
       "      <td>RW-Score</td>\n",
       "      <td>spearman</td>\n",
       "      <td>two-sided</td>\n",
       "      <td>40</td>\n",
       "      <td>0.833980</td>\n",
       "      <td>[0.71, 0.91]</td>\n",
       "      <td>2.349258e-11</td>\n",
       "      <td>1.409555e-10</td>\n",
       "      <td>bonf</td>\n",
       "      <td>1.000000</td>\n",
       "      <td>significant at &lt; 0.001</td>\n",
       "    </tr>\n",
       "    <tr>\n",
       "      <th>5</th>\n",
       "      <td>PU-Score</td>\n",
       "      <td>RW-Score</td>\n",
       "      <td>spearman</td>\n",
       "      <td>two-sided</td>\n",
       "      <td>40</td>\n",
       "      <td>0.822288</td>\n",
       "      <td>[0.69, 0.9]</td>\n",
       "      <td>7.681482e-11</td>\n",
       "      <td>4.608889e-10</td>\n",
       "      <td>bonf</td>\n",
       "      <td>1.000000</td>\n",
       "      <td>significant at &lt; 0.001</td>\n",
       "    </tr>\n",
       "  </tbody>\n",
       "</table>\n",
       "</div>"
      ],
      "text/plain": [
       "          X         Y    method       tail   n         r         CI95%  \\\n",
       "0  FA-Score  AE-Score  spearman  two-sided  40  0.582248  [0.33, 0.76]   \n",
       "1  FA-Score  PU-Score  spearman  two-sided  40  0.450899  [0.16, 0.67]   \n",
       "2  FA-Score  RW-Score  spearman  two-sided  40  0.514495  [0.24, 0.71]   \n",
       "3  AE-Score  PU-Score  spearman  two-sided  40  0.680273  [0.47, 0.82]   \n",
       "4  AE-Score  RW-Score  spearman  two-sided  40  0.833980  [0.71, 0.91]   \n",
       "5  PU-Score  RW-Score  spearman  two-sided  40  0.822288   [0.69, 0.9]   \n",
       "\n",
       "          p-unc        p-corr p-adjust     power      significance_level  \n",
       "0  8.102142e-05  4.861285e-04     bonf  0.983511  significant at < 0.001  \n",
       "1  3.500534e-03  2.100320e-02     bonf  0.847797   significant at < 0.05  \n",
       "2  6.827668e-04  4.096601e-03     bonf  0.937832   significant at < 0.05  \n",
       "3  1.373055e-06  8.238329e-06     bonf  0.999144  significant at < 0.001  \n",
       "4  2.349258e-11  1.409555e-10     bonf  1.000000  significant at < 0.001  \n",
       "5  7.681482e-11  4.608889e-10     bonf  1.000000  significant at < 0.001  "
      ]
     },
     "execution_count": 63,
     "metadata": {},
     "output_type": "execute_result"
    }
   ],
   "source": [
    "from lib.helpers import significance_level\n",
    "\n",
    "pairwise_correlation = pg.pairwise_corr(\n",
    "    data = data, method = 'spearman', padjust = 'bonf',\n",
    "    columns = ['FA-Score', 'AE-Score', 'PU-Score', 'RW-Score']\n",
    ")\n",
    "pairwise_correlation['significance_level'] = pairwise_correlation['p-corr'].apply(significance_level)\n",
    "pairwise_correlation"
   ]
  },
  {
   "cell_type": "markdown",
   "metadata": {},
   "source": [
    "**Defining classification groups (using the median)**"
   ]
  },
  {
   "cell_type": "code",
   "execution_count": 65,
   "metadata": {},
   "outputs": [
    {
     "data": {
      "text/html": [
       "<div>\n",
       "<style scoped>\n",
       "    .dataframe tbody tr th:only-of-type {\n",
       "        vertical-align: middle;\n",
       "    }\n",
       "\n",
       "    .dataframe tbody tr th {\n",
       "        vertical-align: top;\n",
       "    }\n",
       "\n",
       "    .dataframe thead th {\n",
       "        text-align: right;\n",
       "    }\n",
       "</style>\n",
       "<table border=\"1\" class=\"dataframe\">\n",
       "  <thead>\n",
       "    <tr style=\"text-align: right;\">\n",
       "      <th></th>\n",
       "      <th>FA-Group</th>\n",
       "      <th>AE-Group</th>\n",
       "      <th>PU-Group</th>\n",
       "      <th>RW-Group</th>\n",
       "    </tr>\n",
       "  </thead>\n",
       "  <tbody>\n",
       "    <tr>\n",
       "      <th>count</th>\n",
       "      <td>40</td>\n",
       "      <td>40</td>\n",
       "      <td>40</td>\n",
       "      <td>40</td>\n",
       "    </tr>\n",
       "    <tr>\n",
       "      <th>unique</th>\n",
       "      <td>2</td>\n",
       "      <td>2</td>\n",
       "      <td>2</td>\n",
       "      <td>2</td>\n",
       "    </tr>\n",
       "    <tr>\n",
       "      <th>top</th>\n",
       "      <td>Low</td>\n",
       "      <td>Low</td>\n",
       "      <td>High</td>\n",
       "      <td>High</td>\n",
       "    </tr>\n",
       "    <tr>\n",
       "      <th>freq</th>\n",
       "      <td>21</td>\n",
       "      <td>22</td>\n",
       "      <td>20</td>\n",
       "      <td>20</td>\n",
       "    </tr>\n",
       "  </tbody>\n",
       "</table>\n",
       "</div>"
      ],
      "text/plain": [
       "       FA-Group AE-Group PU-Group RW-Group\n",
       "count        40       40       40       40\n",
       "unique        2        2        2        2\n",
       "top         Low      Low     High     High\n",
       "freq         21       22       20       20"
      ]
     },
     "execution_count": 65,
     "metadata": {},
     "output_type": "execute_result"
    }
   ],
   "source": [
    "for factor in ['FA', 'AE', 'PU', 'RW']:\n",
    "    data[f\"{factor}-Group\"] = np.where(\n",
    "        data[f\"{factor}-Score\"] <= data[f\"{factor}-Score\"].median(), 'Low', 'High'\n",
    "    )\n",
    "data[['FA-Group', 'AE-Group', 'PU-Group', 'RW-Group']].describe()"
   ]
  }
 ],
 "metadata": {
  "interpreter": {
   "hash": "9425dcf4357df635fc37fb9935a63d44a717e46c97ff1f0cb6136ff2d20974b1"
  },
  "kernelspec": {
   "display_name": "Python 3.8.10 64-bit ('origami-engagement': conda)",
   "name": "python3"
  },
  "language_info": {
   "codemirror_mode": {
    "name": "ipython",
    "version": 3
   },
   "file_extension": ".py",
   "mimetype": "text/x-python",
   "name": "python",
   "nbconvert_exporter": "python",
   "pygments_lexer": "ipython3",
   "version": "3.8.10"
  },
  "orig_nbformat": 4
 },
 "nbformat": 4,
 "nbformat_minor": 2
}
